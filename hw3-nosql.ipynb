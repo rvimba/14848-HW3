{
 "cells": [
  {
   "cell_type": "code",
   "execution_count": 1,
   "id": "thrown-italy",
   "metadata": {},
   "outputs": [],
   "source": [
    "import boto3\n",
    "import csv"
   ]
  },
  {
   "cell_type": "code",
   "execution_count": 2,
   "id": "cleared-requirement",
   "metadata": {},
   "outputs": [],
   "source": [
    "def setup_bucket(s3, bucket_name):\n",
    "    try:\n",
    "        s3.create_bucket(Bucket=bucket_name, \n",
    "                         CreateBucketConfiguration={'LocationConstraint': 'us-west-2'})\n",
    "    except Exception as e:\n",
    "        print(e)\n",
    "        \n",
    "    bucket = s3.Bucket(bucket_name)\n",
    "    bucket.Acl().put(ACL='public-read')\n",
    "    \n",
    "# setup_bucket()"
   ]
  },
  {
   "cell_type": "code",
   "execution_count": 3,
   "id": "rental-forge",
   "metadata": {},
   "outputs": [],
   "source": [
    "def upload_file(s3, bucket_name, file_path, key):\n",
    "    body = open(file_path, 'rb')\n",
    "    o = s3.Object(bucket_name, key).put(Body=body, ACL='public-read')"
   ]
  },
  {
   "cell_type": "code",
   "execution_count": 4,
   "id": "german-heath",
   "metadata": {},
   "outputs": [],
   "source": [
    "def create_table(dyndb, table_name, key_schema, attr_defs, provisioned_throughput):\n",
    "    try:\n",
    "        table = dyndb.create_table(TableName=table_name,\n",
    "                                  KeySchema=key_schema,\n",
    "                                  AttributeDefinitions=attr_defs,\n",
    "                                  ProvisionedThroughput=provisioned_throughput)\n",
    "    except Exception as e:\n",
    "        print(e)\n",
    "        table = dyndb.Table(table_name)\n",
    "        \n",
    "    table.meta.client.get_waiter('table_exists').wait(TableName=table_name)\n",
    "        \n",
    "    return table"
   ]
  },
  {
   "cell_type": "code",
   "execution_count": 5,
   "id": "suspended-bandwidth",
   "metadata": {},
   "outputs": [],
   "source": [
    "def setup_bucket_and_table(s3, dyndb):\n",
    "    bucket_name = 'datacont-rvimba-nosql'\n",
    "    table_name = 'DataTable'\n",
    "    key_schema = [\n",
    "        {\n",
    "            'AttributeName': 'PartitionKey',\n",
    "            'KeyType': 'HASH'\n",
    "        }, \n",
    "        {\n",
    "            'AttributeName': 'RowKey',\n",
    "            'KeyType': 'RANGE'\n",
    "        }\n",
    "    ]\n",
    "    attr_defs = [\n",
    "        {\n",
    "            'AttributeName': 'PartitionKey',\n",
    "            'AttributeType': 'S'\n",
    "        },\n",
    "        {\n",
    "            'AttributeName': 'RowKey',\n",
    "            'AttributeType': 'S'\n",
    "        }\n",
    "    ]\n",
    "    provisioned_throughput = {\n",
    "        'ReadCapacityUnits': 5,\n",
    "        'WriteCapacityUnits': 5\n",
    "    }\n",
    "    \n",
    "    table = create_table(dyndb, table_name, key_schema, attr_defs, provisioned_throughput)\n",
    "    \n",
    "    with open('experiments.csv', 'rt') as csvfile:\n",
    "        csvf = csv.reader(csvfile)\n",
    "        header = next(csvf)\n",
    "        for item in csvf:\n",
    "            file_path = item[4]\n",
    "            key = item[4]\n",
    "        \n",
    "            upload_file(s3, bucket_name, file_path, key)\n",
    "            \n",
    "            url = 'https://datacont-rvimba-nosql.s3.us-west-2.amazonaws.com/'+file_path\n",
    "            \n",
    "            metadata_item = {'PartitionKey': 'experiments', \n",
    "                             'RowKey': item[0], \n",
    "                             'Temp': item[1],\n",
    "                             'Conductivity': item[2], \n",
    "                             'Concentration': item[3], \n",
    "                             'url': url\n",
    "                            }\n",
    "            try:\n",
    "                table.put_item(Item=metadata_item)\n",
    "            except:\n",
    "                print(\"item may already be in there or failure\")"
   ]
  },
  {
   "cell_type": "code",
   "execution_count": 6,
   "id": "retired-seeking",
   "metadata": {},
   "outputs": [],
   "source": [
    "def query_data(dyndb, table_name):\n",
    "    table = dyndb.Table(table_name)\n",
    "    for row in range(1,4):\n",
    "        response = table.get_item(Key = {'PartitionKey': 'experiments', 'RowKey':str(row)})\n",
    "        item = response['Item']\n",
    "        print(item)"
   ]
  },
  {
   "cell_type": "code",
   "execution_count": 7,
   "id": "derived-times",
   "metadata": {},
   "outputs": [
    {
     "name": "stdout",
     "output_type": "stream",
     "text": [
      "An error occurred (ResourceInUseException) when calling the CreateTable operation: Table already exists: DataTable\n",
      "{'Temp': '-1', 'RowKey': '1', 'Conductivity': '52', 'Concentration': '3.4', 'PartitionKey': 'experiments', 'url': 'https://datacont-rvimba-nosql.s3.us-west-2.amazonaws.com/exp1.csv'}\n",
      "{'Temp': '-2', 'RowKey': '2', 'Conductivity': '52.1', 'Concentration': '3.4', 'PartitionKey': 'experiments', 'url': 'https://datacont-rvimba-nosql.s3.us-west-2.amazonaws.com/exp2.csv'}\n",
      "{'Temp': '-2.93', 'RowKey': '3', 'Conductivity': '57.1', 'Concentration': '3.7', 'PartitionKey': 'experiments', 'url': 'https://datacont-rvimba-nosql.s3.us-west-2.amazonaws.com/exp3.csv'}\n"
     ]
    }
   ],
   "source": [
    "def main():\n",
    "    \n",
    "    # Note to instructor - please set the following keys:\n",
    "    ACCESS_KEY = 'XXXXXXXXXXXXXXXXXXXX'\n",
    "    SECRET_ACCESS_KEY = 'xxxxxxxxxxxxxxxxxxxxxxxxxxxxxxxxxxxxxxxx'\n",
    "                         \n",
    "    # create an s3 instance object\n",
    "    s3 = boto3.resource('s3',\n",
    "                        aws_access_key_id=ACCESS_KEY, \n",
    "                        aws_secret_access_key=SECRET_ACCESS_KEY)\n",
    "\n",
    "    dyndb = boto3.resource('dynamodb',\n",
    "                          region_name='us-west-2',\n",
    "                          aws_access_key_id=ACCESS_KEY,\n",
    "                          aws_secret_access_key=SECRET_ACCESS_KEY)\n",
    "    \n",
    "    setup_bucket_and_table(s3, dyndb)\n",
    "    \n",
    "    query_data(dyndb, 'DataTable')\n",
    "    \n",
    "main()"
   ]
  },
  {
   "cell_type": "code",
   "execution_count": null,
   "id": "assisted-easter",
   "metadata": {},
   "outputs": [],
   "source": []
  }
 ],
 "metadata": {
  "kernelspec": {
   "display_name": "Python 3",
   "language": "python",
   "name": "python3"
  },
  "language_info": {
   "codemirror_mode": {
    "name": "ipython",
    "version": 3
   },
   "file_extension": ".py",
   "mimetype": "text/x-python",
   "name": "python",
   "nbconvert_exporter": "python",
   "pygments_lexer": "ipython3",
   "version": "3.9.7"
  }
 },
 "nbformat": 4,
 "nbformat_minor": 5
}
